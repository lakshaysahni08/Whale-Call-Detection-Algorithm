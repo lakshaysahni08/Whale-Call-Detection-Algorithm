{
 "cells": [
  {
   "cell_type": "code",
   "execution_count": 1,
   "metadata": {},
   "outputs": [
    {
     "name": "stderr",
     "output_type": "stream",
     "text": [
      "Using TensorFlow backend.\n"
     ]
    }
   ],
   "source": [
    "import numpy as np\n",
    "import keras \n",
    "from keras.models import Sequential\n",
    "from keras.layers import Dense\n",
    "from keras.datasets import mnist\n",
    "from sklearn.preprocessing import OneHotEncoder\n",
    "from keras.layers.convolutional import Conv2D\n",
    "from keras.layers import MaxPooling2D\n",
    "from keras.layers.core import Flatten"
   ]
  },
  {
   "cell_type": "code",
   "execution_count": 4,
   "metadata": {},
   "outputs": [],
   "source": [
    "(X_train,y_train), (X_test,y_test) = mnist.load_data()"
   ]
  },
  {
   "cell_type": "code",
   "execution_count": 24,
   "metadata": {},
   "outputs": [
    {
     "data": {
      "text/plain": [
       "array([7, 2, 1, ..., 4, 5, 6], dtype=uint8)"
      ]
     },
     "execution_count": 24,
     "metadata": {},
     "output_type": "execute_result"
    }
   ],
   "source": [
    "y_test"
   ]
  },
  {
   "cell_type": "code",
   "execution_count": 6,
   "metadata": {},
   "outputs": [
    {
     "data": {
      "text/plain": [
       "(60000, 28, 28)"
      ]
     },
     "execution_count": 6,
     "metadata": {},
     "output_type": "execute_result"
    }
   ],
   "source": [
    "X_train.shape"
   ]
  },
  {
   "cell_type": "code",
   "execution_count": 11,
   "metadata": {},
   "outputs": [],
   "source": [
    "pixels = X_train.shape[1] * X_train.shape[2]\n",
    "X_train = X_train.reshape((X_train.shape[0], X_train.shape[1], X_train.shape[2], 1)).astype('float32')\n",
    "X_test = X_test.reshape((X_test.shape[0], X_train.shape[1], X_train.shape[2], 1)).astype('float32')\n",
    "# X_train = X_train.reshape(X_train.shape[0], pixels).astype('float32')\n",
    "# X_test = X_test.reshape(X_test.shape[0], pixels).astype('float32')"
   ]
  },
  {
   "cell_type": "code",
   "execution_count": 9,
   "metadata": {},
   "outputs": [
    {
     "data": {
      "text/plain": [
       "(60000, 28, 28, 1)"
      ]
     },
     "execution_count": 9,
     "metadata": {},
     "output_type": "execute_result"
    }
   ],
   "source": [
    "X_train.shape"
   ]
  },
  {
   "cell_type": "code",
   "execution_count": 45,
   "metadata": {},
   "outputs": [],
   "source": [
    "X_train = X_train/255\n",
    "X_test = X_test/255\n",
    "image_x, image_y = 28, 28"
   ]
  },
  {
   "cell_type": "code",
   "execution_count": 46,
   "metadata": {},
   "outputs": [],
   "source": [
    "enc = OneHotEncoder()\n",
    "y_train = enc.fit_transform(y_train[:, np.newaxis]).toarray()\n",
    "y_test = enc.fit_transform(y_test[:, np.newaxis]).toarray()"
   ]
  },
  {
   "cell_type": "code",
   "execution_count": 52,
   "metadata": {},
   "outputs": [],
   "source": [
    "def create_model():\n",
    "    model = Sequential()\n",
    "    \n",
    "    model.add(Conv2D(16,(2,2),activation = 'relu', input_shape = (image_x, image_y, 1)))\n",
    "    \n",
    "    model.add(MaxPooling2D(2,2))\n",
    "    \n",
    "    model.add(Flatten())\n",
    "    \n",
    "    model.add(Dense(10,activation = 'softmax'))\n",
    "    \n",
    "    model.compile(\n",
    "        loss = 'categorical_crossentropy',\n",
    "        metrics = ['accuracy'],\n",
    "        optimizer = 'adam'\n",
    "    )\n",
    "    return model"
   ]
  },
  {
   "cell_type": "code",
   "execution_count": 53,
   "metadata": {},
   "outputs": [
    {
     "name": "stdout",
     "output_type": "stream",
     "text": [
      "Model: \"sequential_11\"\n",
      "_________________________________________________________________\n",
      "Layer (type)                 Output Shape              Param #   \n",
      "=================================================================\n",
      "conv2d_9 (Conv2D)            (None, 27, 27, 16)        80        \n",
      "_________________________________________________________________\n",
      "max_pooling2d_9 (MaxPooling2 (None, 13, 13, 16)        0         \n",
      "_________________________________________________________________\n",
      "flatten_7 (Flatten)          (None, 2704)              0         \n",
      "_________________________________________________________________\n",
      "dense_7 (Dense)              (None, 10)                27050     \n",
      "=================================================================\n",
      "Total params: 27,130\n",
      "Trainable params: 27,130\n",
      "Non-trainable params: 0\n",
      "_________________________________________________________________\n"
     ]
    }
   ],
   "source": [
    "create_model().summary()"
   ]
  },
  {
   "cell_type": "code",
   "execution_count": 58,
   "metadata": {},
   "outputs": [
    {
     "name": "stdout",
     "output_type": "stream",
     "text": [
      "Train on 60000 samples, validate on 10000 samples\n",
      "Epoch 1/25\n",
      "60000/60000 [==============================] - 6s 102us/step - loss: 0.4354 - accuracy: 0.8845 - val_loss: 0.2551 - val_accuracy: 0.9263\n",
      "Epoch 2/25\n",
      "60000/60000 [==============================] - 6s 98us/step - loss: 0.2313 - accuracy: 0.9337 - val_loss: 0.1981 - val_accuracy: 0.9433\n",
      "Epoch 3/25\n",
      "60000/60000 [==============================] - 6s 97us/step - loss: 0.1769 - accuracy: 0.9499 - val_loss: 0.1648 - val_accuracy: 0.9541\n",
      "Epoch 4/25\n",
      "60000/60000 [==============================] - 6s 98us/step - loss: 0.1403 - accuracy: 0.9609 - val_loss: 0.1354 - val_accuracy: 0.9611\n",
      "Epoch 5/25\n",
      "60000/60000 [==============================] - 6s 99us/step - loss: 0.1153 - accuracy: 0.9680 - val_loss: 0.1134 - val_accuracy: 0.9681\n",
      "Epoch 6/25\n",
      "60000/60000 [==============================] - 6s 101us/step - loss: 0.0981 - accuracy: 0.9732 - val_loss: 0.1003 - val_accuracy: 0.9701\n",
      "Epoch 7/25\n",
      "60000/60000 [==============================] - 7s 113us/step - loss: 0.0864 - accuracy: 0.9763 - val_loss: 0.0943 - val_accuracy: 0.9709\n",
      "Epoch 8/25\n",
      "60000/60000 [==============================] - 7s 110us/step - loss: 0.0777 - accuracy: 0.9780 - val_loss: 0.0864 - val_accuracy: 0.9726\n",
      "Epoch 9/25\n",
      "60000/60000 [==============================] - 6s 103us/step - loss: 0.0706 - accuracy: 0.9800 - val_loss: 0.0791 - val_accuracy: 0.9753\n",
      "Epoch 10/25\n",
      "60000/60000 [==============================] - 6s 103us/step - loss: 0.0648 - accuracy: 0.9819 - val_loss: 0.0764 - val_accuracy: 0.9758\n",
      "Epoch 11/25\n",
      "60000/60000 [==============================] - 6s 108us/step - loss: 0.0608 - accuracy: 0.9828 - val_loss: 0.0785 - val_accuracy: 0.9754\n",
      "Epoch 12/25\n",
      "60000/60000 [==============================] - 6s 107us/step - loss: 0.0564 - accuracy: 0.9834 - val_loss: 0.0759 - val_accuracy: 0.9768\n",
      "Epoch 13/25\n",
      "60000/60000 [==============================] - 6s 106us/step - loss: 0.0533 - accuracy: 0.9846 - val_loss: 0.0737 - val_accuracy: 0.9774\n",
      "Epoch 14/25\n",
      "60000/60000 [==============================] - 7s 111us/step - loss: 0.0505 - accuracy: 0.9854 - val_loss: 0.0696 - val_accuracy: 0.9786\n",
      "Epoch 15/25\n",
      "60000/60000 [==============================] - 6s 108us/step - loss: 0.0479 - accuracy: 0.9865 - val_loss: 0.0757 - val_accuracy: 0.9769\n",
      "Epoch 16/25\n",
      "60000/60000 [==============================] - 7s 110us/step - loss: 0.0458 - accuracy: 0.9867 - val_loss: 0.0699 - val_accuracy: 0.9791\n",
      "Epoch 17/25\n",
      "60000/60000 [==============================] - 7s 120us/step - loss: 0.0430 - accuracy: 0.9877 - val_loss: 0.0703 - val_accuracy: 0.9791\n",
      "Epoch 18/25\n",
      "60000/60000 [==============================] - 6s 108us/step - loss: 0.0415 - accuracy: 0.9884 - val_loss: 0.0694 - val_accuracy: 0.9787\n",
      "Epoch 19/25\n",
      "60000/60000 [==============================] - 6s 107us/step - loss: 0.0395 - accuracy: 0.9886 - val_loss: 0.0688 - val_accuracy: 0.9799\n",
      "Epoch 20/25\n",
      "60000/60000 [==============================] - 7s 109us/step - loss: 0.0375 - accuracy: 0.9894 - val_loss: 0.0719 - val_accuracy: 0.9786\n",
      "Epoch 21/25\n",
      "60000/60000 [==============================] - 7s 109us/step - loss: 0.0365 - accuracy: 0.9894 - val_loss: 0.0728 - val_accuracy: 0.9784\n",
      "Epoch 22/25\n",
      "60000/60000 [==============================] - 7s 111us/step - loss: 0.0347 - accuracy: 0.9902 - val_loss: 0.0725 - val_accuracy: 0.9787\n",
      "Epoch 23/25\n",
      "60000/60000 [==============================] - 9s 155us/step - loss: 0.0332 - accuracy: 0.9906 - val_loss: 0.0717 - val_accuracy: 0.9790\n",
      "Epoch 24/25\n",
      "60000/60000 [==============================] - 7s 113us/step - loss: 0.0322 - accuracy: 0.9908 - val_loss: 0.0729 - val_accuracy: 0.9792\n",
      "Epoch 25/25\n",
      "60000/60000 [==============================] - 7s 114us/step - loss: 0.0305 - accuracy: 0.9914 - val_loss: 0.0777 - val_accuracy: 0.9770\n",
      "10000/10000 [==============================] - 1s 65us/step\n",
      "Loss:  0.07770208547036163\n",
      "Accuracy 0.9769999980926514\n"
     ]
    }
   ],
   "source": [
    "model = create_model()\n",
    "\n",
    "# Fit model\n",
    "output = model.fit(\n",
    "    X_train,\n",
    "    y_train,\n",
    "    batch_size = 100,\n",
    "    epochs = 5,\n",
    "    validation_data=(X_test, y_test)\n",
    "    )\n",
    "\n",
    "scores = model.evaluate(X_test, y_test)\n",
    "    \n",
    "print('Loss: ', scores[0])\n",
    "print('Accuracy', scores[1])"
   ]
  },
  {
   "cell_type": "code",
   "execution_count": 55,
   "metadata": {},
   "outputs": [],
   "source": [
    "import matplotlib.pyplot as plt\n",
    "from matplotlib import style\n",
    "style.use('ggplot')"
   ]
  },
  {
   "cell_type": "code",
   "execution_count": 59,
   "metadata": {},
   "outputs": [
    {
     "name": "stderr",
     "output_type": "stream",
     "text": [
      "/Users/lakshaysahni/Desktop/Research/env/lib/python3.7/site-packages/ipykernel_launcher.py:10: UserWarning: Matplotlib is currently using module://ipykernel.pylab.backend_inline, which is a non-GUI backend, so cannot show the figure.\n",
      "  # Remove the CWD from sys.path while we load stuff.\n"
     ]
    },
    {
     "data": {
      "image/png": "[encoded data removed]",
      "text/plain": [
       "<Figure size 576x432 with 2 Axes>"
      ]
     },
     "metadata": {},
     "output_type": "display_data"
    }
   ],
   "source": [
    "fig, (ax1, ax2) = plt.subplots(2, figsize=(8,6))\n",
    "acc = output.history['val_accuracy']\n",
    "loss = output.history['val_loss']\n",
    "ax1.plot(acc)\n",
    "ax2.plot(loss)\n",
    "ax1.set_ylabel('Accuracy')\n",
    "ax2.set_ylabel('Loss')\n",
    "ax2.set_xlabel('epochs')\n",
    "\n",
    "fig.show()"
   ]
  },
  {
   "cell_type": "code",
   "execution_count": null,
   "metadata": {},
   "outputs": [],
   "source": []
  }
 ],
 "metadata": {
  "kernelspec": {
   "display_name": "Python 3",
   "language": "python",
   "name": "python3"
  },
  "language_info": {
   "codemirror_mode": {
    "name": "ipython",
    "version": 3
   },
   "file_extension": ".py",
   "mimetype": "text/x-python",
   "name": "python",
   "nbconvert_exporter": "python",
   "pygments_lexer": "ipython3",
   "version": "3.7.4"
  }
 },
 "nbformat": 4,
 "nbformat_minor": 4
}
