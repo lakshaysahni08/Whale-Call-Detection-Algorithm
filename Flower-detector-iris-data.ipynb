{
 "cells": [
  {
   "cell_type": "markdown",
   "metadata": {},
   "source": [
    "# CNN Practice"
   ]
  },
  {
   "cell_type": "markdown",
   "metadata": {},
   "source": [
    "#### Loading dataset and libraries"
   ]
  },
  {
   "cell_type": "code",
   "execution_count": 22,
   "metadata": {},
   "outputs": [],
   "source": [
    "from sklearn.datasets import load_iris\n",
    "from sklearn.model_selection import train_test_split\n",
    "from sklearn.preprocessing import OneHotEncoder, StandardScaler\n",
    "import numpy as np"
   ]
  },
  {
   "cell_type": "markdown",
   "metadata": {},
   "source": [
    "#### load dataset\n"
   ]
  },
  {
   "cell_type": "code",
   "execution_count": 7,
   "metadata": {},
   "outputs": [],
   "source": [
    "iris = load_iris()"
   ]
  },
  {
   "cell_type": "markdown",
   "metadata": {},
   "source": [
    "#### Variable assignment"
   ]
  },
  {
   "cell_type": "code",
   "execution_count": 20,
   "metadata": {},
   "outputs": [],
   "source": [
    "X = iris['data']\n",
    "y = iris['target']\n",
    "feature_names = iris['feature_names']\n",
    "names = iris['target_names']"
   ]
  },
  {
   "cell_type": "markdown",
   "metadata": {},
   "source": [
    "#### One Hot Encoding"
   ]
  },
  {
   "cell_type": "code",
   "execution_count": 24,
   "metadata": {},
   "outputs": [],
   "source": [
    "enc = OneHotEncoder()\n",
    "Y = enc.fit_transform(y[:, np.newaxis]).toarray()"
   ]
  },
  {
   "cell_type": "markdown",
   "metadata": {},
   "source": [
    "#### Scaling"
   ]
  },
  {
   "cell_type": "code",
   "execution_count": 25,
   "metadata": {},
   "outputs": [],
   "source": [
    "scaler = StandardScaler()\n",
    "X_scaled = scaler.fit_transform(X)"
   ]
  },
  {
   "cell_type": "markdown",
   "metadata": {},
   "source": [
    "#### Training test split"
   ]
  },
  {
   "cell_type": "code",
   "execution_count": 30,
   "metadata": {},
   "outputs": [],
   "source": [
    "X_train, X_test, Y_train, Y_test = train_test_split(X_scaled, Y, test_size = 0.25)"
   ]
  },
  {
   "cell_type": "markdown",
   "metadata": {},
   "source": [
    "## Building Model"
   ]
  },
  {
   "cell_type": "code",
   "execution_count": 39,
   "metadata": {},
   "outputs": [],
   "source": [
    "from keras.models import Sequential\n",
    "from keras.layers import Dense"
   ]
  },
  {
   "cell_type": "code",
   "execution_count": 87,
   "metadata": {},
   "outputs": [],
   "source": [
    "def create_model():\n",
    "    # Start any model with sequential\n",
    "    model = Sequential()\n",
    "    \n",
    "    # Build input and hidden layers this way\n",
    "    model.add(Dense(32, input_dim=4, activation='relu')) # Dense(output_dim, input_dim, activation)\n",
    "    model.add(Dense(32, activation='relu'))\n",
    "    \n",
    "    # Output layer\n",
    "    model.add(Dense(3, activation='softmax')) # Dense(output_dim, activation)\n",
    "    \n",
    "    # Compile model\n",
    "    model.compile(\n",
    "        loss = 'categorical_crossentropy',\n",
    "        optimizer = 'sgd',\n",
    "        metrics = ['acc'])\n",
    "    \n",
    "    return model"
   ]
  },
  {
   "cell_type": "code",
   "execution_count": 88,
   "metadata": {},
   "outputs": [
    {
     "name": "stdout",
     "output_type": "stream",
     "text": [
      "Model: \"sequential_26\"\n",
      "_________________________________________________________________\n",
      "Layer (type)                 Output Shape              Param #   \n",
      "=================================================================\n",
      "dense_55 (Dense)             (None, 3)                 15        \n",
      "_________________________________________________________________\n",
      "dense_56 (Dense)             (None, 3)                 12        \n",
      "=================================================================\n",
      "Total params: 27\n",
      "Trainable params: 27\n",
      "Non-trainable params: 0\n",
      "_________________________________________________________________\n"
     ]
    }
   ],
   "source": [
    "create_model().summary()"
   ]
  },
  {
   "cell_type": "markdown",
   "metadata": {},
   "source": [
    "#### Train model"
   ]
  },
  {
   "cell_type": "code",
   "execution_count": 89,
   "metadata": {},
   "outputs": [
    {
     "name": "stdout",
     "output_type": "stream",
     "text": [
      "Train on 112 samples, validate on 38 samples\n",
      "Epoch 1/25\n",
      "112/112 [==============================] - 0s 845us/step - loss: 1.2113 - acc: 0.2411 - val_loss: 1.1941 - val_acc: 0.2895\n",
      "Epoch 2/25\n",
      "112/112 [==============================] - 0s 231us/step - loss: 1.1494 - acc: 0.3214 - val_loss: 1.1221 - val_acc: 0.4211\n",
      "Epoch 3/25\n",
      "112/112 [==============================] - 0s 251us/step - loss: 1.0973 - acc: 0.3750 - val_loss: 1.0479 - val_acc: 0.5000\n",
      "Epoch 4/25\n",
      "112/112 [==============================] - 0s 237us/step - loss: 1.0222 - acc: 0.5000 - val_loss: 0.9717 - val_acc: 0.5263\n",
      "Epoch 5/25\n",
      "112/112 [==============================] - 0s 251us/step - loss: 0.9422 - acc: 0.5804 - val_loss: 0.9089 - val_acc: 0.5789\n",
      "Epoch 6/25\n",
      "112/112 [==============================] - 0s 257us/step - loss: 0.8768 - acc: 0.6696 - val_loss: 0.8590 - val_acc: 0.7368\n",
      "Epoch 7/25\n",
      "112/112 [==============================] - 0s 275us/step - loss: 0.8259 - acc: 0.7321 - val_loss: 0.8176 - val_acc: 0.7632\n",
      "Epoch 8/25\n",
      "112/112 [==============================] - 0s 268us/step - loss: 0.7841 - acc: 0.7500 - val_loss: 0.7827 - val_acc: 0.7632\n",
      "Epoch 9/25\n",
      "112/112 [==============================] - 0s 276us/step - loss: 0.7489 - acc: 0.7411 - val_loss: 0.7534 - val_acc: 0.7632\n",
      "Epoch 10/25\n",
      "112/112 [==============================] - 0s 257us/step - loss: 0.7198 - acc: 0.7411 - val_loss: 0.7278 - val_acc: 0.7632\n",
      "Epoch 11/25\n",
      "112/112 [==============================] - 0s 283us/step - loss: 0.6955 - acc: 0.7411 - val_loss: 0.7047 - val_acc: 0.7632\n",
      "Epoch 12/25\n",
      "112/112 [==============================] - 0s 237us/step - loss: 0.6727 - acc: 0.7500 - val_loss: 0.6842 - val_acc: 0.7632\n",
      "Epoch 13/25\n",
      "112/112 [==============================] - 0s 279us/step - loss: 0.6537 - acc: 0.7500 - val_loss: 0.6652 - val_acc: 0.7632\n",
      "Epoch 14/25\n",
      "112/112 [==============================] - 0s 293us/step - loss: 0.6357 - acc: 0.7500 - val_loss: 0.6472 - val_acc: 0.7632\n",
      "Epoch 15/25\n",
      "112/112 [==============================] - 0s 276us/step - loss: 0.6188 - acc: 0.7500 - val_loss: 0.6307 - val_acc: 0.7632\n",
      "Epoch 16/25\n",
      "112/112 [==============================] - 0s 238us/step - loss: 0.6039 - acc: 0.7768 - val_loss: 0.6150 - val_acc: 0.7895\n",
      "Epoch 17/25\n",
      "112/112 [==============================] - 0s 287us/step - loss: 0.5894 - acc: 0.7679 - val_loss: 0.6000 - val_acc: 0.7895\n",
      "Epoch 18/25\n",
      "112/112 [==============================] - 0s 261us/step - loss: 0.5761 - acc: 0.7946 - val_loss: 0.5856 - val_acc: 0.7895\n",
      "Epoch 19/25\n",
      "112/112 [==============================] - 0s 284us/step - loss: 0.5629 - acc: 0.7946 - val_loss: 0.5713 - val_acc: 0.7895\n",
      "Epoch 20/25\n",
      "112/112 [==============================] - 0s 263us/step - loss: 0.5503 - acc: 0.8036 - val_loss: 0.5577 - val_acc: 0.7895\n",
      "Epoch 21/25\n",
      "112/112 [==============================] - 0s 298us/step - loss: 0.5386 - acc: 0.8125 - val_loss: 0.5439 - val_acc: 0.7895\n",
      "Epoch 22/25\n",
      "112/112 [==============================] - 0s 297us/step - loss: 0.5265 - acc: 0.8125 - val_loss: 0.5311 - val_acc: 0.7895\n",
      "Epoch 23/25\n",
      "112/112 [==============================] - 0s 255us/step - loss: 0.5158 - acc: 0.8125 - val_loss: 0.5188 - val_acc: 0.8158\n",
      "Epoch 24/25\n",
      "112/112 [==============================] - 0s 187us/step - loss: 0.5054 - acc: 0.8125 - val_loss: 0.5063 - val_acc: 0.8158\n",
      "Epoch 25/25\n",
      "112/112 [==============================] - 0s 254us/step - loss: 0.4943 - acc: 0.8125 - val_loss: 0.4940 - val_acc: 0.7895\n",
      "38/38 [==============================] - 0s 66us/step\n",
      "Loss:  0.4939686397188588\n",
      "Accuracy 0.7894737124443054\n"
     ]
    }
   ],
   "source": [
    "model = create_model()\n",
    "\n",
    "# Fit model\n",
    "output = model.fit(\n",
    "    X_train,\n",
    "    Y_train,\n",
    "    batch_size = 5,\n",
    "    epochs = 25,\n",
    "    validation_data=(X_test, Y_test))\n",
    "\n",
    "scores = model.evaluate(X_test, Y_test)\n",
    "print('Loss: ', scores[0])\n",
    "print('Accuracy', scores[1])"
   ]
  },
  {
   "cell_type": "markdown",
   "metadata": {},
   "source": [
    "#### Plot accuracy and loss"
   ]
  },
  {
   "cell_type": "code",
   "execution_count": 66,
   "metadata": {},
   "outputs": [],
   "source": [
    "import matplotlib.pyplot as plt\n",
    "from matplotlib import style\n",
    "style.use('ggplot')"
   ]
  },
  {
   "cell_type": "code",
   "execution_count": 67,
   "metadata": {},
   "outputs": [
    {
     "name": "stderr",
     "output_type": "stream",
     "text": [
      "/Users/lakshaysahni/Desktop/Research/env/lib/python3.7/site-packages/ipykernel_launcher.py:10: UserWarning: Matplotlib is currently using module://ipykernel.pylab.backend_inline, which is a non-GUI backend, so cannot show the figure.\n",
      "  # Remove the CWD from sys.path while we load stuff.\n"
     ]
    },
    {
     "data": {
      "image/png": "[encoded data removed]",
      "text/plain": [
       "<Figure size 576x432 with 2 Axes>"
      ]
     },
     "metadata": {},
     "output_type": "display_data"
    }
   ],
   "source": [
    "fig, (ax1, ax2) = plt.subplots(2, figsize=(8,6))\n",
    "acc = output.history['val_acc']\n",
    "loss = output.history['val_loss']\n",
    "ax1.plot(acc)\n",
    "ax2.plot(loss)\n",
    "ax1.set_ylabel('Accuracy')\n",
    "ax2.set_ylabel('Loss')\n",
    "ax2.set_xlabel('epochs')\n",
    "\n",
    "fig.show()"
   ]
  },
  {
   "cell_type": "code",
   "execution_count": null,
   "metadata": {},
   "outputs": [],
   "source": []
  }
 ],
 "metadata": {
  "kernelspec": {
   "display_name": "Python 3",
   "language": "python",
   "name": "python3"
  },
  "language_info": {
   "codemirror_mode": {
    "name": "ipython",
    "version": 3
   },
   "file_extension": ".py",
   "mimetype": "text/x-python",
   "name": "python",
   "nbconvert_exporter": "python",
   "pygments_lexer": "ipython3",
   "version": "3.7.4"
  }
 },
 "nbformat": 4,
 "nbformat_minor": 4
}
